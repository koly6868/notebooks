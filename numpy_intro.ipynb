{
 "cells": [
  {
   "cell_type": "code",
   "execution_count": 2,
   "metadata": {},
   "outputs": [],
   "source": [
    "import numpy as np"
   ]
  },
  {
   "cell_type": "code",
   "execution_count": 4,
   "metadata": {},
   "outputs": [
    {
     "name": "stdout",
     "output_type": "stream",
     "text": [
      "[[  4.58137725  -2.44624596   1.61337408 ...  -6.02899704 -10.48518395\n",
      "   15.32933134]\n",
      " [ 19.89706759  -3.14979115  -4.4313948  ...  22.22262401  14.31169804\n",
      "    4.02189991]\n",
      " [ -5.43114027  -0.25080549  11.34186716 ...   2.49543152  16.53943594\n",
      "   -7.38439303]\n",
      " ...\n",
      " [  4.35803146  12.2934635    1.53914437 ...  -3.40770543  16.34131633\n",
      "  -14.62223504]\n",
      " [  1.56517508   8.87882406  -9.10893816 ...  -0.90698714   1.84037287\n",
      "   11.69155678]\n",
      " [ 11.74032904  -2.69149757  -2.29983057 ...  -1.03735569  10.87638335\n",
      "  -17.40531086]]\n"
     ]
    }
   ],
   "source": [
    "X = np.random.normal(loc=1, scale=10, size=(1000,50))\n",
    "print(X)"
   ]
  },
  {
   "cell_type": "code",
   "execution_count": 8,
   "metadata": {},
   "outputs": [],
   "source": [
    "mean = np.mean(X, axis=0)\n",
    "std = np.std(X, axis=0)"
   ]
  },
  {
   "cell_type": "code",
   "execution_count": 11,
   "metadata": {},
   "outputs": [],
   "source": [
    "X_norm = (X - mean) /std"
   ]
  },
  {
   "cell_type": "code",
   "execution_count": 12,
   "metadata": {},
   "outputs": [
    {
     "name": "stdout",
     "output_type": "stream",
     "text": [
      "[[ 0.3398287  -0.33678486  0.09753451 ... -0.72270774 -1.13437985\n",
      "   1.4772815 ]\n",
      " [ 1.858869   -0.40652239 -0.50728874 ...  2.24439615  1.32903932\n",
      "   0.37362492]\n",
      " [-0.65323248 -0.11916614  1.07094124 ...  0.17256355  1.55035151\n",
      "  -0.739681  ]\n",
      " ...\n",
      " [ 0.31767683  1.12425982  0.09010728 ... -0.44740869  1.53066953\n",
      "  -1.4461272 ]\n",
      " [ 0.04067584  0.78579041 -0.97531109 ... -0.18477275  0.09008914\n",
      "   1.1222182 ]\n",
      " [ 1.04986762 -0.36109494 -0.29401018 ... -0.1984646   0.98776173\n",
      "  -1.71776802]]\n"
     ]
    }
   ],
   "source": [
    "print(X_norm)"
   ]
  },
  {
   "cell_type": "code",
   "execution_count": 28,
   "metadata": {},
   "outputs": [
    {
     "name": "stdout",
     "output_type": "stream",
     "text": [
      "(715,)\n"
     ]
    }
   ],
   "source": [
    "a = np.sum(X,axis=1)\n",
    "print (np.extract(a > 10,a).shape)"
   ]
  },
  {
   "cell_type": "code",
   "execution_count": 36,
   "metadata": {},
   "outputs": [
    {
     "name": "stdout",
     "output_type": "stream",
     "text": [
      "[[[1. 0. 0.]\n",
      "  [0. 1. 0.]\n",
      "  [0. 0. 1.]]\n",
      "\n",
      " [[1. 0. 0.]\n",
      "  [0. 1. 0.]\n",
      "  [0. 0. 1.]]]\n"
     ]
    }
   ],
   "source": [
    "A = np.eye(3)\n",
    "B = np.eye(3)\n",
    "print(np.stack((A,B),axis=0))"
   ]
  },
  {
   "cell_type": "code",
   "execution_count": null,
   "metadata": {},
   "outputs": [],
   "source": []
  }
 ],
 "metadata": {
  "kernelspec": {
   "display_name": "Python 3",
   "language": "python",
   "name": "python3"
  },
  "language_info": {
   "codemirror_mode": {
    "name": "ipython",
    "version": 3
   },
   "file_extension": ".py",
   "mimetype": "text/x-python",
   "name": "python",
   "nbconvert_exporter": "python",
   "pygments_lexer": "ipython3",
   "version": "3.7.3"
  }
 },
 "nbformat": 4,
 "nbformat_minor": 2
}
