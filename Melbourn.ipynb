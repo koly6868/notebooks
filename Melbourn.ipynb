{
 "cells": [
  {
   "cell_type": "code",
   "execution_count": 14,
   "metadata": {},
   "outputs": [],
   "source": [
    "import pandas as pd\n",
    "from sklearn.tree import DecisionTreeRegressor\n",
    "from sklearn.metrics import mean_absolute_error\n",
    "from sklearn.model_selection import train_test_split"
   ]
  },
  {
   "cell_type": "code",
   "execution_count": 30,
   "metadata": {},
   "outputs": [],
   "source": [
    "DATA_PATH = \"Melbourne_housing_FULL.csv\"\n",
    "FEATURE_LABELS = ['Rooms', 'Distance','Bathroom',\n",
    "                   'Car','BuildingArea', 'YearBuilt']\n",
    "RANDOM_STATE = 1"
   ]
  },
  {
   "cell_type": "code",
   "execution_count": 31,
   "metadata": {},
   "outputs": [
    {
     "name": "stdout",
     "output_type": "stream",
     "text": [
      "             Rooms         Price     Distance     Postcode     Bedroom2  \\\n",
      "count  8887.000000  8.887000e+03  8887.000000  8887.000000  8887.000000   \n",
      "mean      3.098909  1.092902e+06    11.199887  3111.662653     3.078204   \n",
      "std       0.963786  6.793819e+05     6.813402   112.614268     0.966269   \n",
      "min       1.000000  1.310000e+05     0.000000  3000.000000     0.000000   \n",
      "25%       2.000000  6.410000e+05     6.400000  3044.000000     2.000000   \n",
      "50%       3.000000  9.000000e+05    10.200000  3084.000000     3.000000   \n",
      "75%       4.000000  1.345000e+06    13.900000  3150.000000     4.000000   \n",
      "max      12.000000  9.000000e+06    47.400000  3977.000000    12.000000   \n",
      "\n",
      "          Bathroom          Car      Landsize  BuildingArea    YearBuilt  \\\n",
      "count  8887.000000  8887.000000   8887.000000   8887.000000  8887.000000   \n",
      "mean      1.646450     1.692247    523.480365    149.309477  1965.753348   \n",
      "std       0.721611     0.975464   1061.324228     87.925580    37.040876   \n",
      "min       1.000000     0.000000      0.000000      0.000000  1196.000000   \n",
      "25%       1.000000     1.000000    212.000000    100.000000  1945.000000   \n",
      "50%       2.000000     2.000000    478.000000    132.000000  1970.000000   \n",
      "75%       2.000000     2.000000    652.000000    180.000000  2000.000000   \n",
      "max       9.000000    10.000000  42800.000000   3112.000000  2019.000000   \n",
      "\n",
      "         Lattitude   Longtitude  Propertycount  \n",
      "count  8887.000000  8887.000000    8887.000000  \n",
      "mean    -37.804501   144.991393    7475.940137  \n",
      "std       0.090549     0.118919    4375.024364  \n",
      "min     -38.174360   144.423790     249.000000  \n",
      "25%     -37.858560   144.920000    4382.500000  \n",
      "50%     -37.798700   144.998500    6567.000000  \n",
      "75%     -37.748945   145.064560   10331.000000  \n",
      "max     -37.407200   145.526350   21650.000000  \n"
     ]
    }
   ],
   "source": [
    "data = pd.read_csv(DATA_PATH)\n",
    "data = data.dropna()\n",
    "print(data.describe())"
   ]
  },
  {
   "cell_type": "code",
   "execution_count": 32,
   "metadata": {},
   "outputs": [],
   "source": [
    "x = data[FEATURE_LABELS]\n",
    "y = data.Price\n",
    "x_train, x_val, y_train, y_val = train_test_split(x,y,random_state=RANDOM_STATE)"
   ]
  },
  {
   "cell_type": "code",
   "execution_count": 33,
   "metadata": {},
   "outputs": [
    {
     "data": {
      "text/html": [
       "<div>\n",
       "<style scoped>\n",
       "    .dataframe tbody tr th:only-of-type {\n",
       "        vertical-align: middle;\n",
       "    }\n",
       "\n",
       "    .dataframe tbody tr th {\n",
       "        vertical-align: top;\n",
       "    }\n",
       "\n",
       "    .dataframe thead th {\n",
       "        text-align: right;\n",
       "    }\n",
       "</style>\n",
       "<table border=\"1\" class=\"dataframe\">\n",
       "  <thead>\n",
       "    <tr style=\"text-align: right;\">\n",
       "      <th></th>\n",
       "      <th>Rooms</th>\n",
       "      <th>Distance</th>\n",
       "      <th>Bathroom</th>\n",
       "      <th>Car</th>\n",
       "      <th>BuildingArea</th>\n",
       "      <th>YearBuilt</th>\n",
       "    </tr>\n",
       "  </thead>\n",
       "  <tbody>\n",
       "    <tr>\n",
       "      <th>count</th>\n",
       "      <td>8887.000000</td>\n",
       "      <td>8887.000000</td>\n",
       "      <td>8887.000000</td>\n",
       "      <td>8887.000000</td>\n",
       "      <td>8887.000000</td>\n",
       "      <td>8887.000000</td>\n",
       "    </tr>\n",
       "    <tr>\n",
       "      <th>mean</th>\n",
       "      <td>3.098909</td>\n",
       "      <td>11.199887</td>\n",
       "      <td>1.646450</td>\n",
       "      <td>1.692247</td>\n",
       "      <td>149.309477</td>\n",
       "      <td>1965.753348</td>\n",
       "    </tr>\n",
       "    <tr>\n",
       "      <th>std</th>\n",
       "      <td>0.963786</td>\n",
       "      <td>6.813402</td>\n",
       "      <td>0.721611</td>\n",
       "      <td>0.975464</td>\n",
       "      <td>87.925580</td>\n",
       "      <td>37.040876</td>\n",
       "    </tr>\n",
       "    <tr>\n",
       "      <th>min</th>\n",
       "      <td>1.000000</td>\n",
       "      <td>0.000000</td>\n",
       "      <td>1.000000</td>\n",
       "      <td>0.000000</td>\n",
       "      <td>0.000000</td>\n",
       "      <td>1196.000000</td>\n",
       "    </tr>\n",
       "    <tr>\n",
       "      <th>25%</th>\n",
       "      <td>2.000000</td>\n",
       "      <td>6.400000</td>\n",
       "      <td>1.000000</td>\n",
       "      <td>1.000000</td>\n",
       "      <td>100.000000</td>\n",
       "      <td>1945.000000</td>\n",
       "    </tr>\n",
       "    <tr>\n",
       "      <th>50%</th>\n",
       "      <td>3.000000</td>\n",
       "      <td>10.200000</td>\n",
       "      <td>2.000000</td>\n",
       "      <td>2.000000</td>\n",
       "      <td>132.000000</td>\n",
       "      <td>1970.000000</td>\n",
       "    </tr>\n",
       "    <tr>\n",
       "      <th>75%</th>\n",
       "      <td>4.000000</td>\n",
       "      <td>13.900000</td>\n",
       "      <td>2.000000</td>\n",
       "      <td>2.000000</td>\n",
       "      <td>180.000000</td>\n",
       "      <td>2000.000000</td>\n",
       "    </tr>\n",
       "    <tr>\n",
       "      <th>max</th>\n",
       "      <td>12.000000</td>\n",
       "      <td>47.400000</td>\n",
       "      <td>9.000000</td>\n",
       "      <td>10.000000</td>\n",
       "      <td>3112.000000</td>\n",
       "      <td>2019.000000</td>\n",
       "    </tr>\n",
       "  </tbody>\n",
       "</table>\n",
       "</div>"
      ],
      "text/plain": [
       "             Rooms     Distance     Bathroom          Car  BuildingArea  \\\n",
       "count  8887.000000  8887.000000  8887.000000  8887.000000   8887.000000   \n",
       "mean      3.098909    11.199887     1.646450     1.692247    149.309477   \n",
       "std       0.963786     6.813402     0.721611     0.975464     87.925580   \n",
       "min       1.000000     0.000000     1.000000     0.000000      0.000000   \n",
       "25%       2.000000     6.400000     1.000000     1.000000    100.000000   \n",
       "50%       3.000000    10.200000     2.000000     2.000000    132.000000   \n",
       "75%       4.000000    13.900000     2.000000     2.000000    180.000000   \n",
       "max      12.000000    47.400000     9.000000    10.000000   3112.000000   \n",
       "\n",
       "         YearBuilt  \n",
       "count  8887.000000  \n",
       "mean   1965.753348  \n",
       "std      37.040876  \n",
       "min    1196.000000  \n",
       "25%    1945.000000  \n",
       "50%    1970.000000  \n",
       "75%    2000.000000  \n",
       "max    2019.000000  "
      ]
     },
     "execution_count": 33,
     "metadata": {},
     "output_type": "execute_result"
    }
   ],
   "source": [
    "x.describe()"
   ]
  },
  {
   "cell_type": "code",
   "execution_count": 34,
   "metadata": {},
   "outputs": [
    {
     "data": {
      "text/plain": [
       "DecisionTreeRegressor(criterion='mse', max_depth=None, max_features=None,\n",
       "                      max_leaf_nodes=None, min_impurity_decrease=0.0,\n",
       "                      min_impurity_split=None, min_samples_leaf=1,\n",
       "                      min_samples_split=2, min_weight_fraction_leaf=0.0,\n",
       "                      presort=False, random_state=1, splitter='best')"
      ]
     },
     "execution_count": 34,
     "metadata": {},
     "output_type": "execute_result"
    }
   ],
   "source": [
    "model = DecisionTreeRegressor(random_state=RANDOM_STATE)\n",
    "\n",
    "model.fit(x_train,y_train)"
   ]
  },
  {
   "cell_type": "code",
   "execution_count": 35,
   "metadata": {},
   "outputs": [
    {
     "data": {
      "text/plain": [
       "333096.8190819082"
      ]
     },
     "execution_count": 35,
     "metadata": {},
     "output_type": "execute_result"
    }
   ],
   "source": [
    "prediction = model.predict(x_val)\n",
    "mean_absolute_error(y_val,prediction)"
   ]
  },
  {
   "cell_type": "code",
   "execution_count": null,
   "metadata": {},
   "outputs": [],
   "source": []
  }
 ],
 "metadata": {
  "kernelspec": {
   "display_name": "Python 3",
   "language": "python",
   "name": "python3"
  },
  "language_info": {
   "codemirror_mode": {
    "name": "ipython",
    "version": 3
   },
   "file_extension": ".py",
   "mimetype": "text/x-python",
   "name": "python",
   "nbconvert_exporter": "python",
   "pygments_lexer": "ipython3",
   "version": "3.7.3"
  }
 },
 "nbformat": 4,
 "nbformat_minor": 2
}
