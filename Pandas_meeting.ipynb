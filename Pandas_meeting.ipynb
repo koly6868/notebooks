{
 "cells": [
  {
   "cell_type": "code",
   "execution_count": 2,
   "metadata": {},
   "outputs": [],
   "source": [
    "import pandas as pd"
   ]
  },
  {
   "cell_type": "code",
   "execution_count": 3,
   "metadata": {},
   "outputs": [],
   "source": [
    "data = pd.read_csv(\"titanic.csv\",index_col=\"PassengerId\")"
   ]
  },
  {
   "cell_type": "code",
   "execution_count": 4,
   "metadata": {},
   "outputs": [
    {
     "data": {
      "text/html": [
       "<div>\n",
       "<style scoped>\n",
       "    .dataframe tbody tr th:only-of-type {\n",
       "        vertical-align: middle;\n",
       "    }\n",
       "\n",
       "    .dataframe tbody tr th {\n",
       "        vertical-align: top;\n",
       "    }\n",
       "\n",
       "    .dataframe thead th {\n",
       "        text-align: right;\n",
       "    }\n",
       "</style>\n",
       "<table border=\"1\" class=\"dataframe\">\n",
       "  <thead>\n",
       "    <tr style=\"text-align: right;\">\n",
       "      <th></th>\n",
       "      <th>Survived</th>\n",
       "      <th>Pclass</th>\n",
       "      <th>Age</th>\n",
       "      <th>SibSp</th>\n",
       "      <th>Parch</th>\n",
       "      <th>Fare</th>\n",
       "    </tr>\n",
       "  </thead>\n",
       "  <tbody>\n",
       "    <tr>\n",
       "      <th>count</th>\n",
       "      <td>891.000000</td>\n",
       "      <td>891.000000</td>\n",
       "      <td>714.000000</td>\n",
       "      <td>891.000000</td>\n",
       "      <td>891.000000</td>\n",
       "      <td>891.000000</td>\n",
       "    </tr>\n",
       "    <tr>\n",
       "      <th>mean</th>\n",
       "      <td>0.383838</td>\n",
       "      <td>2.308642</td>\n",
       "      <td>29.699118</td>\n",
       "      <td>0.523008</td>\n",
       "      <td>0.381594</td>\n",
       "      <td>32.204208</td>\n",
       "    </tr>\n",
       "    <tr>\n",
       "      <th>std</th>\n",
       "      <td>0.486592</td>\n",
       "      <td>0.836071</td>\n",
       "      <td>14.526497</td>\n",
       "      <td>1.102743</td>\n",
       "      <td>0.806057</td>\n",
       "      <td>49.693429</td>\n",
       "    </tr>\n",
       "    <tr>\n",
       "      <th>min</th>\n",
       "      <td>0.000000</td>\n",
       "      <td>1.000000</td>\n",
       "      <td>0.420000</td>\n",
       "      <td>0.000000</td>\n",
       "      <td>0.000000</td>\n",
       "      <td>0.000000</td>\n",
       "    </tr>\n",
       "    <tr>\n",
       "      <th>25%</th>\n",
       "      <td>0.000000</td>\n",
       "      <td>2.000000</td>\n",
       "      <td>20.125000</td>\n",
       "      <td>0.000000</td>\n",
       "      <td>0.000000</td>\n",
       "      <td>7.910400</td>\n",
       "    </tr>\n",
       "    <tr>\n",
       "      <th>50%</th>\n",
       "      <td>0.000000</td>\n",
       "      <td>3.000000</td>\n",
       "      <td>28.000000</td>\n",
       "      <td>0.000000</td>\n",
       "      <td>0.000000</td>\n",
       "      <td>14.454200</td>\n",
       "    </tr>\n",
       "    <tr>\n",
       "      <th>75%</th>\n",
       "      <td>1.000000</td>\n",
       "      <td>3.000000</td>\n",
       "      <td>38.000000</td>\n",
       "      <td>1.000000</td>\n",
       "      <td>0.000000</td>\n",
       "      <td>31.000000</td>\n",
       "    </tr>\n",
       "    <tr>\n",
       "      <th>max</th>\n",
       "      <td>1.000000</td>\n",
       "      <td>3.000000</td>\n",
       "      <td>80.000000</td>\n",
       "      <td>8.000000</td>\n",
       "      <td>6.000000</td>\n",
       "      <td>512.329200</td>\n",
       "    </tr>\n",
       "  </tbody>\n",
       "</table>\n",
       "</div>"
      ],
      "text/plain": [
       "         Survived      Pclass         Age       SibSp       Parch        Fare\n",
       "count  891.000000  891.000000  714.000000  891.000000  891.000000  891.000000\n",
       "mean     0.383838    2.308642   29.699118    0.523008    0.381594   32.204208\n",
       "std      0.486592    0.836071   14.526497    1.102743    0.806057   49.693429\n",
       "min      0.000000    1.000000    0.420000    0.000000    0.000000    0.000000\n",
       "25%      0.000000    2.000000   20.125000    0.000000    0.000000    7.910400\n",
       "50%      0.000000    3.000000   28.000000    0.000000    0.000000   14.454200\n",
       "75%      1.000000    3.000000   38.000000    1.000000    0.000000   31.000000\n",
       "max      1.000000    3.000000   80.000000    8.000000    6.000000  512.329200"
      ]
     },
     "execution_count": 4,
     "metadata": {},
     "output_type": "execute_result"
    }
   ],
   "source": [
    "data.describe()\n"
   ]
  },
  {
   "cell_type": "code",
   "execution_count": 5,
   "metadata": {},
   "outputs": [],
   "source": [
    "def write_answer(file_name,text):\n",
    "    with open(file_name+\".txt\",\"w\") as f:\n",
    "        f.write(text)"
   ]
  },
  {
   "cell_type": "code",
   "execution_count": 6,
   "metadata": {},
   "outputs": [],
   "source": [
    "male_c = 0\n",
    "female_c = 0\n",
    "for val in data.Sex:\n",
    "    if val == \"male\":\n",
    "        male_c += 1\n",
    "    elif val == \"female\":\n",
    "        female_c += 1\n",
    "answ = str(male_c) + \" \" + str(female_c)\n",
    "write_answer(\"1\",answ)"
   ]
  },
  {
   "cell_type": "code",
   "execution_count": 7,
   "metadata": {},
   "outputs": [
    {
     "data": {
      "text/plain": [
       "male      577\n",
       "female    314\n",
       "Name: Sex, dtype: int64"
      ]
     },
     "execution_count": 7,
     "metadata": {},
     "output_type": "execute_result"
    }
   ],
   "source": [
    "data.Sex.value_counts()"
   ]
  },
  {
   "cell_type": "code",
   "execution_count": 8,
   "metadata": {},
   "outputs": [],
   "source": [
    "percentage = round(sum(data.Survived)/data.Survived.count()*100,2)\n",
    "write_answer(\"2\",str(percentage))"
   ]
  },
  {
   "cell_type": "code",
   "execution_count": 9,
   "metadata": {},
   "outputs": [],
   "source": [
    "pclass_c = 0\n",
    "for i in data.Pclass:\n",
    "    if i == 1:\n",
    "        pclass_c += 1\n",
    "percentage = round(pclass_c / data.Pclass.count() * 100,2)\n",
    "write_answer(\"3\",str(percentage))"
   ]
  },
  {
   "cell_type": "code",
   "execution_count": 10,
   "metadata": {},
   "outputs": [],
   "source": [
    "def find_median(itterable):\n",
    "    data = sorted(itterable)\n",
    "    return data[len(data)//2]"
   ]
  },
  {
   "cell_type": "code",
   "execution_count": 11,
   "metadata": {},
   "outputs": [],
   "source": [
    "ages = data.Age.dropna()\n",
    "median = find_median(ages)\n",
    "mean_age = round(sum(ages)/ages.count(),2)\n",
    "\n",
    "answ = str(mean_age) + \" \" + str(median)\n",
    "write_answer(\"4\",answ)"
   ]
  },
  {
   "cell_type": "code",
   "execution_count": 12,
   "metadata": {},
   "outputs": [],
   "source": [
    "def average(x):\n",
    "    return sum(x)/len(x)"
   ]
  },
  {
   "cell_type": "code",
   "execution_count": 13,
   "metadata": {},
   "outputs": [],
   "source": [
    "import numpy as np\n",
    "\n",
    "def dispersion(x, y = []):\n",
    "    if (y != []) and len(x) == len(y):\n",
    "        return average(np.array(x) * np.array(y)) - average(x)*average(y)\n",
    "    else:\n",
    "        x = np.array(x)\n",
    "        return average(x * x) - average(x) ** 2"
   ]
  },
  {
   "cell_type": "code",
   "execution_count": 14,
   "metadata": {},
   "outputs": [
    {
     "name": "stdout",
     "output_type": "stream",
     "text": [
      "0.41483769862015607\n"
     ]
    },
    {
     "name": "stderr",
     "output_type": "stream",
     "text": [
      "c:\\users\\kol9l\\appdata\\local\\programs\\python\\python37\\lib\\site-packages\\ipykernel_launcher.py:4: DeprecationWarning: elementwise comparison failed; this will raise an error in the future.\n",
      "  after removing the cwd from sys.path.\n"
     ]
    }
   ],
   "source": [
    "sib_sp = np.array(data.SibSp)\n",
    "parch = np.array(data.Parch)\n",
    "\n",
    "xy = dispersion(sib_sp,parch)\n",
    "x = dispersion(sib_sp)\n",
    "y = dispersion(parch)\n",
    "\n",
    "r = xy /((x*y) ** 0.5)\n",
    "\n",
    "print(r)\n",
    "text = str(round(r,2))\n",
    "write_answer(\"5\",text)"
   ]
  },
  {
   "cell_type": "code",
   "execution_count": 15,
   "metadata": {},
   "outputs": [
    {
     "name": "stdout",
     "output_type": "stream",
     "text": [
      "PassengerId\n",
      "1                                Braund, Mr. Owen Harris\n",
      "2      Cumings, Mrs. John Bradley (Florence Briggs Th...\n",
      "3                                 Heikkinen, Miss. Laina\n",
      "4           Futrelle, Mrs. Jacques Heath (Lily May Peel)\n",
      "5                               Allen, Mr. William Henry\n",
      "6                                       Moran, Mr. James\n",
      "7                                McCarthy, Mr. Timothy J\n",
      "8                         Palsson, Master. Gosta Leonard\n",
      "9      Johnson, Mrs. Oscar W (Elisabeth Vilhelmina Berg)\n",
      "10                   Nasser, Mrs. Nicholas (Adele Achem)\n",
      "11                       Sandstrom, Miss. Marguerite Rut\n",
      "12                              Bonnell, Miss. Elizabeth\n",
      "13                        Saundercock, Mr. William Henry\n",
      "14                           Andersson, Mr. Anders Johan\n",
      "15                  Vestrom, Miss. Hulda Amanda Adolfina\n",
      "16                      Hewlett, Mrs. (Mary D Kingcome) \n",
      "17                                  Rice, Master. Eugene\n",
      "18                          Williams, Mr. Charles Eugene\n",
      "19     Vander Planke, Mrs. Julius (Emelia Maria Vande...\n",
      "20                               Masselmani, Mrs. Fatima\n",
      "21                                  Fynney, Mr. Joseph J\n",
      "22                                 Beesley, Mr. Lawrence\n",
      "23                           McGowan, Miss. Anna \"Annie\"\n",
      "24                          Sloper, Mr. William Thompson\n",
      "25                         Palsson, Miss. Torborg Danira\n",
      "26     Asplund, Mrs. Carl Oscar (Selma Augusta Emilia...\n",
      "27                               Emir, Mr. Farred Chehab\n",
      "28                        Fortune, Mr. Charles Alexander\n",
      "29                         O'Dwyer, Miss. Ellen \"Nellie\"\n",
      "30                                   Todoroff, Mr. Lalio\n",
      "                             ...                        \n",
      "71                            Jenkin, Mr. Stephen Curnow\n",
      "72                            Goodwin, Miss. Lillian Amy\n",
      "73                                  Hood, Mr. Ambrose Jr\n",
      "74                           Chronopoulos, Mr. Apostolos\n",
      "75                                         Bing, Mr. Lee\n",
      "76                               Moen, Mr. Sigurd Hansen\n",
      "77                                     Staneff, Mr. Ivan\n",
      "78                              Moutal, Mr. Rahamin Haim\n",
      "79                         Caldwell, Master. Alden Gates\n",
      "80                              Dowdell, Miss. Elizabeth\n",
      "81                                  Waelens, Mr. Achille\n",
      "82                           Sheerlinck, Mr. Jan Baptist\n",
      "83                        McDermott, Miss. Brigdet Delia\n",
      "84                               Carrau, Mr. Francisco M\n",
      "85                                   Ilett, Miss. Bertha\n",
      "86     Backstrom, Mrs. Karl Alfred (Maria Mathilda Gu...\n",
      "87                                Ford, Mr. William Neal\n",
      "88                         Slocovski, Mr. Selman Francis\n",
      "89                            Fortune, Miss. Mabel Helen\n",
      "90                                Celotti, Mr. Francesco\n",
      "91                                  Christmann, Mr. Emil\n",
      "92                            Andreasson, Mr. Paul Edvin\n",
      "93                           Chaffee, Mr. Herbert Fuller\n",
      "94                               Dean, Mr. Bertram Frank\n",
      "95                                     Coxon, Mr. Daniel\n",
      "96                           Shorney, Mr. Charles Joseph\n",
      "97                             Goldschmidt, Mr. George B\n",
      "98                       Greenfield, Mr. William Bertram\n",
      "99                  Doling, Mrs. John T (Ada Julia Bone)\n",
      "100                                    Kantor, Mr. Sinai\n",
      "Name: Name, Length: 100, dtype: object\n"
     ]
    }
   ],
   "source": [
    "names = data.Name\n",
    "print(names[:100])"
   ]
  },
  {
   "cell_type": "code",
   "execution_count": 43,
   "metadata": {},
   "outputs": [
    {
     "name": "stdout",
     "output_type": "stream",
     "text": [
      "['Harder, Mr. George Achilles', 'Wiklund, Mr. Jakob Alfred', 'Beavan, Mr. William Thomas', 'Ringhini, Mr. Sante', 'Palsson, Miss. Stina Viola']\n"
     ]
    }
   ],
   "source": [
    "prefixes = [\"Miss.\",\"Mrs.\"]\n",
    "strs = list(names)\n",
    "\n",
    "for i, name in enumerate(strs):\n",
    "    s = name.find(\"(\")\n",
    "    e = name.find(\")\")\n",
    "    if s != -1:\n",
    "        strs[i] = name[:s-1] + name[e+1:]\n",
    "print(strs[370:375])\n",
    "w_names = []\n",
    "for name in strs:\n",
    "    for prefix in prefixes:\n",
    "        s = extract(name,prefix)\n",
    "        if s != \"\":\n",
    "            w_names.append(s)\n",
    "            break\n",
    "w_names = pd.Series(w_names).str.strip()\n",
    "\n",
    "            "
   ]
  },
  {
   "cell_type": "code",
   "execution_count": 44,
   "metadata": {},
   "outputs": [],
   "source": [
    "def extract(string,feature):\n",
    "    s_index = string.find(feature)\n",
    "    if s_index == -1:\n",
    "        return \"\"\n",
    "    s_index += len(feature) + 1\n",
    "    for index in range(s_index, len(string)):\n",
    "        if string[index] == \" \":\n",
    "            return string[s_index:index].strip()"
   ]
  },
  {
   "cell_type": "code",
   "execution_count": 45,
   "metadata": {},
   "outputs": [
    {
     "name": "stdout",
     "output_type": "stream",
     "text": [
      "William      8\n",
      "Anna         6\n",
      "John         5\n",
      "Margaret     5\n",
      "Frederick    4\n",
      "Helen        4\n",
      "Elizabeth    3\n",
      "Hanora       3\n",
      "Thomas       3\n",
      "Katherine    3\n",
      "Henry        3\n",
      "Ellen        3\n",
      "Charles      3\n",
      "Mary         3\n",
      "Marion       2\n",
      "George       2\n",
      "Constance    2\n",
      "Annie        2\n",
      "Lillian      2\n",
      "Alexander    2\n",
      "Albert       2\n",
      "Edward       2\n",
      "James        2\n",
      "Augusta      2\n",
      "Marie        2\n",
      "Frank        2\n",
      "Alice        2\n",
      "Jean         2\n",
      "Ann          1\n",
      "Julie        1\n",
      "            ..\n",
      "Aurora       1\n",
      "Georgette    1\n",
      "Nora         1\n",
      "Anders       1\n",
      "Oscar        1\n",
      "Adele        1\n",
      "Agda         1\n",
      "Hedwig       1\n",
      "Marjorie     1\n",
      "Margit       1\n",
      "Luise        1\n",
      "Doolina      1\n",
      "Mari         1\n",
      "Telma        1\n",
      "Hudson       1\n",
      "Bridget      1\n",
      "Jessie       1\n",
      "Susan        1\n",
      "Pekka        1\n",
      "Clear        1\n",
      "Madeleine    1\n",
      "Carl         1\n",
      "Samuel       1\n",
      "Wendla       1\n",
      "Amy          1\n",
      "Stina        1\n",
      "Peter        1\n",
      "Ernest       1\n",
      "Elisabeth    1\n",
      "Edgar        1\n",
      "Length: 119, dtype: int64\n"
     ]
    }
   ],
   "source": [
    "print(w_names.value_counts())"
   ]
  },
  {
   "cell_type": "code",
   "execution_count": null,
   "metadata": {},
   "outputs": [],
   "source": []
  }
 ],
 "metadata": {
  "kernelspec": {
   "display_name": "Python 3",
   "language": "python",
   "name": "python3"
  },
  "language_info": {
   "codemirror_mode": {
    "name": "ipython",
    "version": 3
   },
   "file_extension": ".py",
   "mimetype": "text/x-python",
   "name": "python",
   "nbconvert_exporter": "python",
   "pygments_lexer": "ipython3",
   "version": "3.7.3"
  }
 },
 "nbformat": 4,
 "nbformat_minor": 2
}
