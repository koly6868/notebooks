{
 "cells": [
  {
   "cell_type": "code",
   "execution_count": 1,
   "metadata": {
    "ExecuteTime": {
     "end_time": "2019-10-05T10:42:41.919690Z",
     "start_time": "2019-10-05T10:42:38.763104Z"
    }
   },
   "outputs": [],
   "source": [
    "import numpy as np\n",
    "import pandas as pd\n",
    "from sklearn.model_selection import train_test_split, ShuffleSplit, KFold, cross_val_score\n",
    "from sklearn.preprocessing import scale\n",
    "from sklearn.neighbors import KNeighborsClassifier\n",
    "from matplotlib import pyplot as plt"
   ]
  },
  {
   "cell_type": "code",
   "execution_count": 21,
   "metadata": {
    "ExecuteTime": {
     "end_time": "2019-10-05T10:58:22.338552Z",
     "start_time": "2019-10-05T10:58:22.324590Z"
    }
   },
   "outputs": [],
   "source": [
    "PATH = \"wine.data\"\n",
    "RANDOM_STATE = 42\n",
    "IS_DATA_SCLAING = False\n",
    "data = pd.read_csv(PATH)"
   ]
  },
  {
   "cell_type": "code",
   "execution_count": 22,
   "metadata": {
    "ExecuteTime": {
     "end_time": "2019-10-05T10:58:22.659728Z",
     "start_time": "2019-10-05T10:58:22.588885Z"
    }
   },
   "outputs": [],
   "source": [
    "y = data.iloc[:,0]\n",
    "x = data.iloc[:,1:]\n",
    "x.describe()\n",
    "if IS_DATA_SCLAING:\n",
    "    x = scale(x)\n"
   ]
  },
  {
   "cell_type": "code",
   "execution_count": 23,
   "metadata": {
    "ExecuteTime": {
     "end_time": "2019-10-05T10:58:24.524758Z",
     "start_time": "2019-10-05T10:58:22.944968Z"
    }
   },
   "outputs": [],
   "source": [
    "scores = np.zeros((50,5))\n",
    "for i in range(50):\n",
    "    model = KNeighborsClassifier(n_neighbors=i+1)\n",
    "    kf = KFold(5,shuffle=True,random_state=RANDOM_STATE)\n",
    "    score = cross_val_score(model,x,y, cv=kf)\n",
    "    scores[i] = score\n",
    "scores = np.mean(scores, axis=1)"
   ]
  },
  {
   "cell_type": "code",
   "execution_count": 24,
   "metadata": {
    "ExecuteTime": {
     "end_time": "2019-10-05T10:58:24.858907Z",
     "start_time": "2019-10-05T10:58:24.602554Z"
    }
   },
   "outputs": [
    {
     "name": "stdout",
     "output_type": "stream",
     "text": [
      "max_acc :  0.7352380952380952 0\n"
     ]
    },
    {
     "data": {
      "image/png": "[encoded data removed]",
      "text/plain": [
       "<Figure size 432x288 with 1 Axes>"
      ]
     },
     "metadata": {
      "needs_background": "light"
     },
     "output_type": "display_data"
    }
   ],
   "source": [
    "\n",
    "plt.plot(scores)\n",
    "print(\"max_acc : \",np.amax(scores),np.argmax(scores))"
   ]
  },
  {
   "cell_type": "code",
   "execution_count": null,
   "metadata": {
    "ExecuteTime": {
     "end_time": "2019-10-03T08:42:43.993280Z",
     "start_time": "2019-10-03T08:42:43.979318Z"
    }
   },
   "outputs": [],
   "source": []
  },
  {
   "cell_type": "code",
   "execution_count": null,
   "metadata": {},
   "outputs": [],
   "source": []
  }
 ],
 "metadata": {
  "kernelspec": {
   "display_name": "Python 3",
   "language": "python",
   "name": "python3"
  },
  "language_info": {
   "codemirror_mode": {
    "name": "ipython",
    "version": 3
   },
   "file_extension": ".py",
   "mimetype": "text/x-python",
   "name": "python",
   "nbconvert_exporter": "python",
   "pygments_lexer": "ipython3",
   "version": "3.7.2"
  },
  "varInspector": {
   "cols": {
    "lenName": 16,
    "lenType": 16,
    "lenVar": 40
   },
   "kernels_config": {
    "python": {
     "delete_cmd_postfix": "",
     "delete_cmd_prefix": "del ",
     "library": "var_list.py",
     "varRefreshCmd": "print(var_dic_list())"
    },
    "r": {
     "delete_cmd_postfix": ") ",
     "delete_cmd_prefix": "rm(",
     "library": "var_list.r",
     "varRefreshCmd": "cat(var_dic_list()) "
    }
   },
   "types_to_exclude": [
    "module",
    "function",
    "builtin_function_or_method",
    "instance",
    "_Feature"
   ],
   "window_display": false
  }
 },
 "nbformat": 4,
 "nbformat_minor": 2
}
